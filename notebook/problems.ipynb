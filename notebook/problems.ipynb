{
 "cells": [
  {
   "cell_type": "markdown",
   "id": "ac622319",
   "metadata": {},
   "source": [
    "# Descriptive statistics problems"
   ]
  },
  {
   "cell_type": "markdown",
   "id": "5e0ab0d5",
   "metadata": {},
   "source": [
    "### Exercise 1\n",
    "\n",
    "We will use NumPy to obtain information to describe statistically.\n",
    "\n",
    "- Generate an array of 100 elements following a normal distribution.\n",
    "- Generate an array of 100 elements following a chi-square distribution with 3 degrees of freedom.\n",
    "- Calculate the main metrics and statistical measures that best describe the two vectors."
   ]
  },
  {
   "cell_type": "code",
   "execution_count": 1,
   "id": "34720ab6",
   "metadata": {},
   "outputs": [
    {
     "name": "stdout",
     "output_type": "stream",
     "text": [
      "Mean normal distribution:7.05\n",
      "Standard Deviation normal distribution:0.46\n",
      "Median normal distribution:7.07\n",
      "Range of values of normal distribution:2.04\n",
      "25th percentile of normal distribution:6.69\n",
      "75th percentile of normal distribution:7.35\n",
      "\n",
      "Mean chi-square distribution:3.09\n",
      "Standard Deviation chi-square distribution:2.16\n",
      "Median chi-square distribution:2.67\n",
      "Range of values of chi-square distribution:10.34\n",
      "25th percentile of chi-square distribution:1.32\n",
      "75th percentile of chi-square distribution:4.76\n"
     ]
    }
   ],
   "source": [
    "import numpy as np\n",
    "normal_array = np.random.normal(7, 0.5, 100)\n",
    "chi_array = np.random.chisquare(df=3, size=100)\n",
    "\n",
    "print(f'Mean normal distribution:{np.mean(normal_array):.2f}')\n",
    "print(f'Standard Deviation normal distribution:{np.std(normal_array):.2f}')\n",
    "print(f'Median normal distribution:{np.median(normal_array):.2f}')\n",
    "print(f'Range of values of normal distribution:{np.ptp(normal_array):.2f}')\n",
    "print(f'25th percentile of normal distribution:{np.percentile(normal_array, 25):.2f}')\n",
    "print(f'75th percentile of normal distribution:{np.percentile(normal_array, 75):.2f}\\n')\n",
    "\n",
    "print(f'Mean chi-square distribution:{np.mean(chi_array):.2f}')\n",
    "print(f'Standard Deviation chi-square distribution:{np.std(chi_array):.2f}')\n",
    "print(f'Median chi-square distribution:{np.median(chi_array):.2f}')\n",
    "print(f'Range of values of chi-square distribution:{np.ptp(chi_array):.2f}')\n",
    "print(f'25th percentile of chi-square distribution:{np.percentile(chi_array, 25):.2f}')\n",
    "print(f'75th percentile of chi-square distribution:{np.percentile(chi_array, 75):.2f}')\n",
    "\n"
   ]
  },
  {
   "cell_type": "markdown",
   "id": "46c70c3d",
   "metadata": {},
   "source": [
    "### Exercise 2\n",
    "\n",
    "Write a Python program to calculate the standard deviation of the following data:\n",
    "\n",
    "```py\n",
    "data = [4, 2, 5, 8, 6]\n",
    "```"
   ]
  },
  {
   "cell_type": "code",
   "execution_count": 2,
   "id": "d590308e",
   "metadata": {},
   "outputs": [
    {
     "name": "stdout",
     "output_type": "stream",
     "text": [
      "Mean: 5.00\n",
      "Standard deviation: 2.00\n"
     ]
    }
   ],
   "source": [
    "data = [4, 2, 5, 8, 6]\n",
    "mean = np.mean(data)\n",
    "size_data=len(data)\n",
    "sumatorio=0\n",
    "for i in range(len(data)):\n",
    "    squared=(data[i]-mean)**2\n",
    "    sumatorio = sumatorio+squared\n",
    "std_squared=sumatorio/(size_data)\n",
    "std=std_squared**0.5\n",
    "\n",
    "print(f'Mean: {mean:.2f}')\n",
    "print(f'Standard deviation: {std:.2f}')"
   ]
  }
 ],
 "metadata": {
  "kernelspec": {
   "display_name": "Python 3",
   "language": "python",
   "name": "python3"
  },
  "language_info": {
   "codemirror_mode": {
    "name": "ipython",
    "version": 3
   },
   "file_extension": ".py",
   "mimetype": "text/x-python",
   "name": "python",
   "nbconvert_exporter": "python",
   "pygments_lexer": "ipython3",
   "version": "3.11.4"
  }
 },
 "nbformat": 4,
 "nbformat_minor": 5
}
